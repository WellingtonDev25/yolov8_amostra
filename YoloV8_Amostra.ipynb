{
  "nbformat": 4,
  "nbformat_minor": 0,
  "metadata": {
    "colab": {
      "provenance": []
    },
    "kernelspec": {
      "name": "python3",
      "display_name": "Python 3"
    },
    "language_info": {
      "name": "python"
    },
    "accelerator": "GPU",
    "gpuClass": "standard"
  },
  "cells": [
    {
      "cell_type": "markdown",
      "source": [
        "##YOLO v8 Detection and Segmentation\n",
        "\n",
        "Dev Ideias - Instrutor Wellington I Souza\n",
        "<br></br>\n",
        "<img src='https://learnopencv.com/wp-content/uploads/2023/01/yolov8-detection-segmentation.gif'>\n"
      ],
      "metadata": {
        "id": "trV1xVjya_P_"
      }
    },
    {
      "cell_type": "markdown",
      "source": [
        "## Comparação com as demais versões\n",
        "\n",
        "\n",
        "<img src='https://raw.githubusercontent.com/ultralytics/assets/main/yolov8/yolo-comparison-plots.png'>\n",
        "\n",
        "\n",
        "https://github.com/ultralytics/ultralytics"
      ],
      "metadata": {
        "id": "K0Fsj9y7ch9S"
      }
    },
    {
      "cell_type": "code",
      "source": [
        "!nvidia-smi"
      ],
      "metadata": {
        "id": "aOe3wemaKH-v"
      },
      "execution_count": null,
      "outputs": []
    },
    {
      "cell_type": "code",
      "source": [
        "!pip install ultralytics"
      ],
      "metadata": {
        "id": "dP_l8yZp7534"
      },
      "execution_count": null,
      "outputs": []
    },
    {
      "cell_type": "code",
      "source": [
        "from ultralytics import YOLO"
      ],
      "metadata": {
        "id": "1c83rtEy8Pq5"
      },
      "execution_count": 3,
      "outputs": []
    },
    {
      "cell_type": "markdown",
      "source": [
        "##Aplicar Modelos em Imagens e Vídeos"
      ],
      "metadata": {
        "id": "PWj8tw4i2Bjf"
      }
    },
    {
      "cell_type": "code",
      "source": [
        "# !yolo task=detect mode=predict model=yolov8l.pt conf=0.25 source=\"horse.jpg\" save=True\n",
        "\n",
        "!yolo task=segment mode=predict model=/content/yolov8l-seg.pt conf=0.25 source=\"horse.jpg\" save=True"
      ],
      "metadata": {
        "id": "FxiNctfC83-v",
        "colab": {
          "base_uri": "https://localhost:8080/"
        },
        "outputId": "bcf30d69-9f8f-4f14-bd2d-33ca0716fe3a"
      },
      "execution_count": 6,
      "outputs": [
        {
          "output_type": "stream",
          "name": "stdout",
          "text": [
            "Downloading https://github.com/ultralytics/assets/releases/download/v0.0.0/yolov8l-seg.pt to /content/yolov8l-seg.pt...\n",
            "100% 88.1M/88.1M [00:06<00:00, 13.9MB/s]\n",
            "Ultralytics YOLOv8.0.40 🚀 Python-3.8.10 torch-1.13.1+cu116 CUDA:0 (Tesla T4, 15110MiB)\n",
            "YOLOv8l-seg summary (fused): 295 layers, 45973568 parameters, 0 gradients, 220.5 GFLOPs\n",
            "\n",
            "image 1/1 /content/horse.jpg: 640x512 1 person, 1 dog, 1 horse, 61.2ms\n",
            "Speed: 0.6ms pre-process, 61.2ms inference, 3.9ms postprocess per image at shape (1, 3, 640, 640)\n",
            "Results saved to \u001b[1mruns/segment/predict\u001b[0m\n"
          ]
        }
      ]
    },
    {
      "cell_type": "code",
      "source": [
        "from IPython.display import Image\n",
        "Image('/content/runs/segment/predict/horse.jpg')"
      ],
      "metadata": {
        "id": "wW8Au7k24pVt"
      },
      "execution_count": null,
      "outputs": []
    }
  ]
}